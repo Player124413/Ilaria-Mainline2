{
  "nbformat": 4,
  "nbformat_minor": 0,
  "metadata": {
    "colab": {
      "provenance": []
    },
    "kernelspec": {
      "name": "python3",
      "display_name": "Python 3"
    },
    "language_info": {
      "name": "python"
    }
  },
  "cells": [
    {
      "cell_type": "code",
      "source": [
        "!git clone https://github.com/TheStingerX/Ilaria-RVC-Mainline\n",
        "!pip install aria2\n",
        "import codecs\n",
        "e = codecs.decode('IbvprPbairefvbaJroHV','rot_13')\n",
        "%cd Ilaria-RVC-Mainline\n",
        "!aria2c --console-log-level=error -c -x 16 -s 16 -k 1M https://huggingface.co/lj1995/{e}/resolve/main/pretrained/D32k.pth -d /content/Ilaria-RVC-Mainline/assets/pretrained -o D32k.pth\n",
        "!aria2c --console-log-level=error -c -x 16 -s 16 -k 1M https://huggingface.co/lj1995/{e}/resolve/main/pretrained/D40k.pth -d /content/Ilaria-RVC-Mainline/assets/pretrained -o D40k.pth\n",
        "!aria2c --console-log-level=error -c -x 16 -s 16 -k 1M https://huggingface.co/lj1995/{e}/resolve/main/pretrained/D48k.pth -d /content/Ilaria-RVC-Mainline/assets/pretrained -o D48k.pth\n",
        "!aria2c --console-log-level=error -c -x 16 -s 16 -k 1M https://huggingface.co/lj1995/{e}/resolve/main/pretrained/G32k.pth -d /content/Ilaria-RVC-Mainline/assets/pretrained -o G32k.pth\n",
        "!aria2c --console-log-level=error -c -x 16 -s 16 -k 1M https://huggingface.co/lj1995/{e}/resolve/main/pretrained/G40k.pth -d /content/Ilaria-RVC-Mainline/assets/pretrained -o G40k.pth\n",
        "!aria2c --console-log-level=error -c -x 16 -s 16 -k 1M https://huggingface.co/lj1995/{e}/resolve/main/pretrained/G48k.pth -d /content/Ilaria-RVC-Mainline/assets/pretrained -o G48k.pth\n",
        "!aria2c --console-log-level=error -c -x 16 -s 16 -k 1M https://huggingface.co/lj1995/{e}/resolve/main/pretrained/f0D32k.pth -d /content/Ilaria-RVC-Mainline/assets/pretrained -o f0D32k.pth\n",
        "!aria2c --console-log-level=error -c -x 16 -s 16 -k 1M https://huggingface.co/lj1995/{e}/resolve/main/pretrained/f0D40k.pth -d /content/Ilaria-RVC-Mainline/assets/pretrained -o f0D40k.pth\n",
        "!aria2c --console-log-level=error -c -x 16 -s 16 -k 1M https://huggingface.co/lj1995/{e}/resolve/main/pretrained/f0D48k.pth -d /content/Ilaria-RVC-Mainline/assets/pretrained -o f0D48k.pth\n",
        "!aria2c --console-log-level=error -c -x 16 -s 16 -k 1M https://huggingface.co/lj1995/{e}/resolve/main/pretrained/f0G32k.pth -d /content/Ilaria-RVC-Mainline/assets/pretrained -o f0G32k.pth\n",
        "!aria2c --console-log-level=error -c -x 16 -s 16 -k 1M https://huggingface.co/lj1995/{e}/resolve/main/pretrained/f0G40k.pth -d /content/Ilaria-RVC-Mainline/assets/pretrained -o f0G40k.pth\n",
        "!aria2c --console-log-level=error -c -x 16 -s 16 -k 1M https://huggingface.co/lj1995/{e}/resolve/main/pretrained/f0G48k.pth -d /content/Ilaria-RVC-Mainline/assets/pretrained -o f0G48k.pth\n",
        "\n",
        "# v2\n",
        "!aria2c --console-log-level=error -c -x 16 -s 16 -k 1M https://huggingface.co/lj1995/{e}/resolve/main/pretrained_v2/D32k.pth -d /content/Ilaria-RVC-Mainline/assets/pretrained_v2 -o D32k.pth\n",
        "!aria2c --console-log-level=error -c -x 16 -s 16 -k 1M https://huggingface.co/lj1995/{e}/resolve/main/pretrained_v2/D40k.pth -d /content/Ilaria-RVC-Mainline/assets/pretrained_v2 -o D40k.pth\n",
        "!aria2c --console-log-level=error -c -x 16 -s 16 -k 1M https://huggingface.co/lj1995/{e}/resolve/main/pretrained_v2/D48k.pth -d /content/Ilaria-RVC-Mainline/assets/pretrained_v2 -o D48k.pth\n",
        "!aria2c --console-log-level=error -c -x 16 -s 16 -k 1M https://huggingface.co/lj1995/{e}/resolve/main/pretrained_v2/G32k.pth -d /content/Ilaria-RVC-Mainline/assets/pretrained_v2 -o G32k.pth\n",
        "!aria2c --console-log-level=error -c -x 16 -s 16 -k 1M https://huggingface.co/lj1995/{e}/resolve/main/pretrained_v2/G40k.pth -d /content/Ilaria-RVC-Mainline/assets/pretrained_v2 -o G40k.pth\n",
        "!aria2c --console-log-level=error -c -x 16 -s 16 -k 1M https://huggingface.co/lj1995/{e}/resolve/main/pretrained_v2/G48k.pth -d /content/Ilaria-RVC-Mainline/assets/pretrained_v2 -o G48k.pth\n",
        "!aria2c --console-log-level=error -c -x 16 -s 16 -k 1M https://huggingface.co/lj1995/{e}/resolve/main/pretrained_v2/f0D32k.pth -d /content/Ilaria-RVC-Mainline/assets/pretrained_v2 -o f0D32k.pth\n",
        "!aria2c --console-log-level=error -c -x 16 -s 16 -k 1M https://huggingface.co/lj1995/{e}/resolve/main/pretrained_v2/f0D40k.pth -d /content/Ilaria-RVC-Mainline/assets/pretrained_v2 -o f0D40k.pth\n",
        "!aria2c --console-log-level=error -c -x 16 -s 16 -k 1M https://huggingface.co/lj1995/{e}/resolve/main/pretrained_v2/f0D48k.pth -d /content/Ilaria-RVC-Mainline/assets/pretrained_v2 -o f0D48k.pth\n",
        "!aria2c --console-log-level=error -c -x 16 -s 16 -k 1M https://huggingface.co/lj1995/{e}/resolve/main/pretrained_v2/f0G32k.pth -d /content/Ilaria-RVC-Mainline/assets/pretrained_v2 -o f0G32k.pth\n",
        "!aria2c --console-log-level=error -c -x 16 -s 16 -k 1M https://huggingface.co/lj1995/{e}/resolve/main/pretrained_v2/f0G40k.pth -d /content/Ilaria-RVC-Mainline/assets/pretrained_v2 -o f0G40k.pth\n",
        "!aria2c --console-log-level=error -c -x 16 -s 16 -k 1M https://huggingface.co/lj1995/{e}/resolve/main/pretrained_v2/f0G48k.pth -d /content/Ilaria-RVC-Mainline/assets/pretrained_v2 -o f0G48k.pth\n",
        "!pip install -r requirements.txt\n",
        "%cd Ilaria-RVC-Mainline"
      ],
      "metadata": {
        "id": "dLxbZtERP09V"
      },
      "execution_count": null,
      "outputs": []
    },
    {
      "cell_type": "code",
      "execution_count": null,
      "metadata": {
        "id": "aV_UxtWePz3J"
      },
      "outputs": [],
      "source": [
        "import codecs\n",
        "%cd /content/Ilaria-RVC-Mainline\n",
        "abc = codecs.decode(\"vasre-jro\", \"rot_13\")\n",
        "!python {abc}.py --colab\n"
      ]
    }
  ]
}